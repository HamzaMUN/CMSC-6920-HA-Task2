{
 "cells": [
  {
   "cell_type": "code",
   "execution_count": 1,
   "id": "b380f73f-d829-44a2-aba4-48e9d64c1b62",
   "metadata": {},
   "outputs": [
    {
     "name": "stdout",
     "output_type": "stream",
     "text": [
      "***\n",
      "Using Finite Difference Methods to approximate:\n",
      "1. Forward difference D + u(x̄),\n",
      "2. Backward difference D - u(x̄),\n",
      "3. Central difference Dₒu(x̄), and\n",
      "4. Extrapolated central difference D₃u(x̄).\n",
      "***\n",
      "\n",
      "***\n",
      "The table showing approximation vs. actual for different finite difference methods at given values of h:\n",
      "***\n",
      "\n",
      "h              D + u(x̄)      D - u(x̄)      Dₒu(x̄)        D₃u(x̄)        \n",
      "----------------------------------------------------------------------\n",
      "1.0e-01      -4.2939e-02    4.1138e-02   -9.0005e-04    -1.1253e-07  \n",
      "5.0e-02      -2.1257e-02    2.0807e-02   -2.2510e-04    -7.0347e-09  \n",
      "1.0e-02      -4.2163e-03    4.1983e-03   -9.0050e-06    -1.1276e-11  \n",
      "5.0e-03      -2.1059e-03    2.1014e-03   -2.2513e-06    -6.9367e-13  \n",
      "1.0e-03      -4.2083e-04    4.2065e-04   -9.0050e-08    3.5416e-14   \n"
     ]
    }
   ],
   "source": [
    "import numpy as np\n",
    "\n",
    "print (\"***\\nUsing Finite Difference Methods to approximate:\\n1. Forward difference D + u(x̄),\\n2. Backward difference D - u(x̄),\\n3. Central difference Dₒu(x̄), and\\n4. Extrapolated central difference D₃u(x̄).\\n***\")\n",
    "\n",
    "try:\n",
    "    x = 1 # Point of differenciation given in the problem statement\n",
    "    actual_derivative = np.cos(x) # Actual value of the derivative of sin(x)\n",
    "    h_list = [1e-1, 5e-2, 1e-2, 5e-3, 1e-3] # Given values of h to approximate\n",
    "\n",
    "    # Generate the table\n",
    "    print(\"\\n***\\nThe table showing approximation vs. actual for different finite difference methods at given values of h:\\n***\\n\")\n",
    "    print(f\"{'h':<15}{'D + u(x̄)':<15}{'D - u(x̄)':<15}{'Dₒu(x̄)':<15}{'D₃u(x̄)':<15}\")\n",
    "    print(\"-\" * 70)\n",
    "\n",
    "    for h in h_list:\n",
    "        forward_diff = (np.sin(x + h) - np.sin(x)) / h # D + u(x̄)\n",
    "        backward_diff = (np.sin(x) - np.sin(x - h)) / h # D - u(x̄)\n",
    "        central_diff = (np.sin(x + h) - np.sin(x - h)) / (2 * h) # Dₒu(x̄)\n",
    "        extrapolated_central_diff = (4 * ((np.sin(x + h / 2) - np.sin(x - h / 2)) / h) - central_diff) / 3 # D₃u(x̄) using Richardson Extrapolation Formula\n",
    "\n",
    "\n",
    "        forward_diff_err = forward_diff - actual_derivative\n",
    "        backward_diff_err = backward_diff - actual_derivative\n",
    "        central_diff_err = central_diff - actual_derivative\n",
    "        extrapolated_central_diff_err = extrapolated_central_diff - actual_derivative\n",
    "\n",
    "        print(f\"{h:<13.1e}{forward_diff_err:<15.4e}{backward_diff_err:<13.4e}{central_diff_err:<15.4e}{extrapolated_central_diff_err:<13.4e}\")\n",
    "\n",
    "except:\n",
    "    print(\"Error: There is an error perfroming the computations. Please check the values of variables.\")"
   ]
  },
  {
   "cell_type": "code",
   "execution_count": null,
   "id": "1d958bcc-84da-4934-be61-292f74cc8510",
   "metadata": {},
   "outputs": [],
   "source": []
  }
 ],
 "metadata": {
  "kernelspec": {
   "display_name": "Python 3 (ipykernel)",
   "language": "python",
   "name": "python3"
  },
  "language_info": {
   "codemirror_mode": {
    "name": "ipython",
    "version": 3
   },
   "file_extension": ".py",
   "mimetype": "text/x-python",
   "name": "python",
   "nbconvert_exporter": "python",
   "pygments_lexer": "ipython3",
   "version": "3.12.8"
  }
 },
 "nbformat": 4,
 "nbformat_minor": 5
}
